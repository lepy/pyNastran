{
 "cells": [
  {
   "cell_type": "markdown",
   "metadata": {},
   "source": [
    "# OP2: Numpy Demo #1 (Displacement, Solid Stress)\n",
    "\n",
    "The Jupyter notebook for this demo can be found in:\n",
    "   - docs/quick_start/demo/op2_demo_numpy2.ipynb\n",
    "   - https://github.com/SteveDoyle2/pyNastran/tree/master/docs/quick_start/demo/op2_demo_numpy2.ipynb\n",
    "\n",
    "It's recommended that you first go through:\n",
    "   - https://github.com/SteveDoyle2/pyNastran/tree/master/docs/quick_start/demo/op2_intro.ipynb"
   ]
  },
  {
   "cell_type": "markdown",
   "metadata": {},
   "source": [
    "The previous demo was intentionally clunky to demonstrate how one might think of a single element. \n",
    "\n",
    "If you code like that, your code will be slow, so let's show you how to really use the numpy-style with the OP2.\n",
    "\n",
    "### Import the packages"
   ]
  },
  {
   "cell_type": "code",
   "execution_count": 1,
   "metadata": {},
   "outputs": [],
   "source": [
    "import os\n",
    "import copy\n",
    "import numpy as np\n",
    "np.set_printoptions(precision=2, threshold=20, suppress=True, linewidth=100)\n",
    "\n",
    "import pyNastran\n",
    "pkg_path = pyNastran.__path__[0]\n",
    "model_path = os.path.join(pkg_path, '..', 'models')\n",
    "\n",
    "from pyNastran.utils import print_bad_path\n",
    "from pyNastran.op2.op2 import read_op2\n",
    "from pyNastran.utils import object_methods, object_attributes\n",
    "np.set_printoptions(precision=3, threshold=20, edgeitems=10)"
   ]
  },
  {
   "cell_type": "markdown",
   "metadata": {},
   "source": [
    "### Load the model"
   ]
  },
  {
   "cell_type": "code",
   "execution_count": 2,
   "metadata": {},
   "outputs": [
    {
     "data": {
      "text/html": [
       "<text style=color:green>INFO:    op2_scalar.py:1469           op2_filename = 'c:\\\\nasa\\\\m4\\\\formats\\\\git\\\\pynastran_1.2\\\\pyNastran\\\\..\\\\models\\\\solid_bending\\\\solid_bending.op2'\n",
       "</text>"
      ],
      "text/plain": [
       "<IPython.core.display.HTML object>"
      ]
     },
     "metadata": {},
     "output_type": "display_data"
    }
   ],
   "source": [
    "op2_filename = os.path.join(model_path, 'solid_bending', 'solid_bending.op2')\n",
    "model = read_op2(op2_filename, build_dataframe=False, debug=False)"
   ]
  },
  {
   "cell_type": "markdown",
   "metadata": {},
   "source": [
    "### Find the min/max Displacement magnitude\n",
    "\n",
    "In this example, we access the 3D \"data\" numpy array object.  Then we take the L2-norm of the translations to determine the magnitude.  We broadcast the L2-norm across the column (x, y, z) to end up with **nnodes** results.  It's good practice to verify the shapes of your arrays just to make sure you get the **axis=1** parameter correct.  "
   ]
  },
  {
   "cell_type": "code",
   "execution_count": 3,
   "metadata": {},
   "outputs": [
    {
     "name": "stdout",
     "output_type": "stream",
     "text": [
      "disp_headers = ['t1', 't2', 't3', 'r1', 'r2', 'r3']\n",
      "max displacement=0.012376265 max_nodes=[23]\n",
      "min displacement=0.0 max_nodes=[31 35 39 43 47 48 53 63 64 69 70 71 72]\n"
     ]
    }
   ],
   "source": [
    "subcase_id = 1\n",
    "disp = model.displacements[subcase_id]\n",
    "disp_headers = disp.get_headers()\n",
    "print('disp_headers = %s' % disp_headers)\n",
    "nnodes = disp.node_gridtype.shape[0]\n",
    "\n",
    "txyz = disp.data[0, :, :3]\n",
    "txyz_mag = np.linalg.norm(txyz, axis=1)\n",
    "assert len(txyz_mag) == nnodes\n",
    "txyz_mag_max = txyz_mag.max()\n",
    "txyz_mag_min = txyz_mag.min()\n",
    "\n",
    "inid_max = np.where(txyz_mag == txyz_mag_max)[0]\n",
    "inid_min = np.where(txyz_mag == txyz_mag_min)[0]\n",
    "all_nodes = disp.node_gridtype[:, 0]\n",
    "max_nodes = all_nodes[inid_max]\n",
    "min_nodes = all_nodes[inid_min]\n",
    "print('max displacement=%s max_nodes=%s' % (txyz_mag_max, max_nodes))\n",
    "print('min displacement=%s max_nodes=%s' % (txyz_mag_min, min_nodes))"
   ]
  },
  {
   "cell_type": "markdown",
   "metadata": {},
   "source": [
    "### Find the max centroidal stress on the CTETRA elements"
   ]
  },
  {
   "cell_type": "code",
   "execution_count": 4,
   "metadata": {},
   "outputs": [
    {
     "name": "stdout",
     "output_type": "stream",
     "text": [
      "stress_headers = ['oxx', 'oyy', 'ozz', 'txy', 'tyz', 'txz', 'omax', 'omid', 'omin', 'von_mises']\n"
     ]
    }
   ],
   "source": [
    "subcase_id = 1\n",
    "stress = model.ctetra_stress[subcase_id]\n",
    "stress_headers = stress.get_headers()\n",
    "print('stress_headers = %s' % stress_headers)\n",
    "\n",
    "element_node = stress.element_node\n",
    "elements = element_node[:, 0]\n",
    "nodes = element_node[:, 1]\n",
    "#print(element_node)"
   ]
  },
  {
   "cell_type": "markdown",
   "metadata": {},
   "source": [
    "### The 0 location is the centroid\n",
    "\n",
    "You can either query the 0 location or calculate it with a numpy arange.  CTETRA elements have 4 nodes (even 10 noded CTETRA elements) in the OP2."
   ]
  },
  {
   "cell_type": "code",
   "execution_count": 5,
   "metadata": {},
   "outputs": [
    {
     "name": "stdout",
     "output_type": "stream",
     "text": [
      "eids_centroid = [  1   2   3   4   5   6   7   8   9  10 ... 177 178 179 180 181 182 183 184 185 186]\n",
      "[15900.173 16272.253 12798.722 10728.189 26309.43  30346.639 45438.992 51427.406 40912.426\n",
      " 41191.414 ...  7342.325 10163.439 28830.463 46618.023  6998.956  7861.917  8589.076  6053.971\n",
      " 44450.695 22886.705]\n",
      "max_stress=52446.37 eids=[142]\n",
      "min_stress=3288.5732 eids=[165]\n"
     ]
    }
   ],
   "source": [
    "izero = np.where(nodes == 0)[0]\n",
    "izero2 = np.arange(0, len(nodes), step=5, dtype='int32')\n",
    "#print(izero)\n",
    "#print(izero2)\n",
    "eids_centroid = elements[izero2]\n",
    "print('eids_centroid = %s' % eids_centroid)\n",
    "\n",
    "ivm = stress_headers.index('von_mises')\n",
    "vm_stress = stress.data[0, izero2, ivm]\n",
    "print(vm_stress)\n",
    "\n",
    "vm_stress_max = vm_stress.max()\n",
    "vm_stress_min = vm_stress.min()\n",
    "icentroid_max = np.where(vm_stress == vm_stress_max)[0]\n",
    "icentroid_min = np.where(vm_stress == vm_stress_min)[0]\n",
    "eids_max = eids_centroid[icentroid_max]\n",
    "eids_min = eids_centroid[icentroid_min]\n",
    "\n",
    "print('max_stress=%s eids=%s' % (vm_stress_max, eids_max))\n",
    "print('min_stress=%s eids=%s' % (vm_stress_min, eids_min))"
   ]
  },
  {
   "cell_type": "markdown",
   "metadata": {},
   "source": [
    "## Finding the VM stress associated with a single node ID\n",
    "\n",
    "One node in a tet mesh may be shared by many elements.  In this case, 26 elements share 1 node!"
   ]
  },
  {
   "cell_type": "code",
   "execution_count": 6,
   "metadata": {},
   "outputs": [
    {
     "name": "stdout",
     "output_type": "stream",
     "text": [
      "stress_headers = ['oxx', 'oyy', 'ozz', 'txy', 'tyz', 'txz', 'omax', 'omid', 'omin', 'von_mises']\n",
      "nodes = [ 0  8 13 67 33  0  8  7 62 59 ...  0 54 39 64 71  0  8 62  4 58]\n",
      "eids4 = [15, 17, 35, 36, 37, 38, 39, 40, 52, 69, 75, 80, 81, 83, 84, 93, 94, 109, 110, 112, 119, 140, 147, 158, 174, 186]\n",
      "ifour = [ 72  82 171 176 181 186 191 196 256 341 ... 468 542 546 557 594 698 733 786 866 928]\n",
      "vm_stress = [14743.482 15626.162  8966.338 30538.127 30699.877 22275.338 10997.474 14971.115  8662.346\n",
      "  7466.423 ... 21431.023 10285.905 14731.244  9881.857 15744.815  9625.97  11964.446 12875.621\n",
      "  8207.951 22886.705] 26\n"
     ]
    }
   ],
   "source": [
    "subcase_id = 1\n",
    "stress = model.ctetra_stress[subcase_id]\n",
    "stress_headers = stress.get_headers()\n",
    "print('stress_headers = %s' % stress_headers)\n",
    "\n",
    "element_node = stress.element_node\n",
    "elements = element_node[:, 0]\n",
    "nelements = len(elements) // 5\n",
    "nodes = element_node[:, 1]#.reshape(nelements, 5)\n",
    "\n",
    "#------------------------------\n",
    "ivm = -1\n",
    "print('nodes =', nodes)\n",
    "ifour = np.where(nodes == 4)[0]\n",
    "eids_four = elements[ifour].tolist()\n",
    "print('eids4 =', eids_four)\n",
    "print('ifour =', ifour)\n",
    "vm_stress = stress.data[0, ifour, ivm]\n",
    "print('vm_stress =', vm_stress, len(vm_stress))"
   ]
  },
  {
   "cell_type": "markdown",
   "metadata": {},
   "source": [
    "## Finding the centroidal VM stress for a set of elements\n",
    "\n",
    "Some fancy numpy code will be used for this case.  Your code will be much faster if you are familiar with numpy."
   ]
  },
  {
   "cell_type": "code",
   "execution_count": 7,
   "metadata": {},
   "outputs": [
    {
     "name": "stdout",
     "output_type": "stream",
     "text": [
      "stress_headers = ['oxx', 'oyy', 'ozz', 'txy', 'tyz', 'txz', 'omax', 'omid', 'omin', 'von_mises']\n",
      "eids_to_lookup = [5, 7, 10]\n",
      "vm_stress = [15900.173 16272.253 16272.253]\n"
     ]
    }
   ],
   "source": [
    "subcase_id = 1\n",
    "stress = model.ctetra_stress[subcase_id]\n",
    "stress_headers = stress.get_headers()\n",
    "print('stress_headers = %s' % stress_headers)\n",
    "\n",
    "element_node = stress.element_node\n",
    "elements = element_node[:, 0]\n",
    "nodes = element_node[:, 1]\n",
    "\n",
    "# the slow way to get the unique elements\n",
    "izero = np.where(nodes == 0)[0]\n",
    "ueids_slow = elements[izero]\n",
    "\n",
    "# the fast way\n",
    "ueids = np.unique(elements)\n",
    "assert np.array_equal(ueids, ueids_slow)\n",
    "\n",
    "eids_to_lookup = [5, 7, 10]\n",
    "ilookup = np.searchsorted(ueids, eids_to_lookup)\n",
    "\n",
    "ivm = stress_headers.index('von_mises')\n",
    "vm_stress = stress.data[0, ilookup, ivm]\n",
    "\n",
    "print('eids_to_lookup =', eids_to_lookup)\n",
    "print('vm_stress =', vm_stress)"
   ]
  },
  {
   "cell_type": "markdown",
   "metadata": {},
   "source": [
    "## Finding the centroidal VM stress for a set of elements when you have multiple element types\n",
    "\n",
    "In this case, we'll assume the set of element_ids to lookup contain CHEXAs as well as CTETRAs.\n",
    "Thus, we need to filter the data."
   ]
  },
  {
   "cell_type": "code",
   "execution_count": 8,
   "metadata": {},
   "outputs": [
    {
     "name": "stdout",
     "output_type": "stream",
     "text": [
      "stress_headers = ['oxx', 'oyy', 'ozz', 'txy', 'tyz', 'txz', 'omax', 'omid', 'omin', 'von_mises']\n",
      "ueids [  1   2   3   4   5   6   7   8   9  10 ... 177 178 179 180 181 182 183 184 185 186]\n",
      "eids_to_lookup = [5, 7, 10, 186, 1000000]\n",
      "vm_stress = [15900.173 16272.253 16272.253 22275.338 22275.338]\n"
     ]
    }
   ],
   "source": [
    "subcase_id = 1\n",
    "stress = model.ctetra_stress[subcase_id]\n",
    "stress_headers = stress.get_headers()\n",
    "print('stress_headers = %s' % stress_headers)\n",
    "\n",
    "element_node = stress.element_node\n",
    "elements = element_node[:, 0]\n",
    "nodes = element_node[:, 1]\n",
    "\n",
    "ueids = np.unique(elements)\n",
    "print('ueids', ueids)\n",
    "eids_to_lookup = [5, 7, 10, 186, 1000000]\n",
    "ilookup = np.searchsorted(ueids, eids_to_lookup)\n",
    "\n",
    "ivm = stress_headers.index('von_mises')\n",
    "vm_stress = stress.data[0, ilookup, ivm]\n",
    "\n",
    "print('eids_to_lookup =', eids_to_lookup)\n",
    "print('vm_stress =', vm_stress)"
   ]
  },
  {
   "cell_type": "markdown",
   "metadata": {},
   "source": [
    "### We have a problem where our element_id (1000000) is out of range\n",
    "\n",
    "Searchsorted is fast, but you need to make sure your data actually exists.  Otherwise, you'll end\n",
    "up finding the data for the next element in the sorted list.\n",
    "\n",
    "Let's filter the data using sets and then use searchsorted."
   ]
  },
  {
   "cell_type": "code",
   "execution_count": 9,
   "metadata": {},
   "outputs": [
    {
     "name": "stdout",
     "output_type": "stream",
     "text": [
      "filtered_eids = [  5   7  10 186]\n",
      "vm_stress = [15900.173 16272.253 16272.253 22275.338]\n"
     ]
    }
   ],
   "source": [
    "eids_to_lookup = [5, 7, 10, 186, 1000000]\n",
    "filtered_eids = np.intersect1d(elements, eids_to_lookup)\n",
    "ilookup = np.searchsorted(ueids, filtered_eids)\n",
    "vm_stress = stress.data[0, ilookup, ivm]\n",
    "\n",
    "print('filtered_eids =', filtered_eids)\n",
    "print('vm_stress =', vm_stress)"
   ]
  },
  {
   "cell_type": "markdown",
   "metadata": {},
   "source": [
    "### Other Elements that are Similar\n",
    "\n",
    " - Rod Stress/strain\n",
    " - Beam Stress/strain\n",
    " - Bar Stress/strain\n",
    " - Isotropic CQUAD4 stress/strain"
   ]
  }
 ],
 "metadata": {
  "kernelspec": {
   "display_name": "Python 3",
   "language": "python",
   "name": "python3"
  },
  "language_info": {
   "codemirror_mode": {
    "name": "ipython",
    "version": 3
   },
   "file_extension": ".py",
   "mimetype": "text/x-python",
   "name": "python",
   "nbconvert_exporter": "python",
   "pygments_lexer": "ipython3",
   "version": "3.7.3"
  }
 },
 "nbformat": 4,
 "nbformat_minor": 2
}
