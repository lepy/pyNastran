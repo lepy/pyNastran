{
 "cells": [
  {
   "cell_type": "markdown",
   "metadata": {},
   "source": [
    "# OP2: Numpy Demo #2 (Composite Plate Stress)\n",
    "\n",
    "The Jupyter notebook for this demo can be found in:\n",
    "   - docs/quick_start/demo/op2_demo_numpy1.ipynb\n",
    "   - https://github.com/SteveDoyle2/pyNastran/tree/master/docs/quick_start/demo/op2_demo_numpy1.ipynb\n",
    "\n",
    "It's recommended that you first go through:\n",
    "   - https://github.com/SteveDoyle2/pyNastran/tree/master/docs/quick_start/demo/op2_intro.ipynb\n",
    "   - https://github.com/SteveDoyle2/pyNastran/tree/master/docs/quick_start/demo/op2_demo.ipynb\n",
    "   - https://github.com/SteveDoyle2/pyNastran/tree/master/docs/quick_start/demo/op2_demo_numpy1.ipynb\n",
    "\n",
    "In this tutorial, composite plate stresses will be covered.\n",
    "\n",
    "## Load the model\n",
    "\n",
    "If the BWB example OP2 doesn't exist, we'll run Nastran to create it."
   ]
  },
  {
   "cell_type": "code",
   "execution_count": 1,
   "metadata": {},
   "outputs": [
    {
     "data": {
      "text/html": [
       "<text style=color:green>INFO:    op2_scalar.py:1469           op2_filename = 'c:\\\\nasa\\\\m4\\\\formats\\\\git\\\\pynastran_1.2\\\\pyNastran\\\\..\\\\models\\\\bwb\\\\bwb_saero.op2'\n",
       "</text>"
      ],
      "text/plain": [
       "<IPython.core.display.HTML object>"
      ]
     },
     "metadata": {},
     "output_type": "display_data"
    },
    {
     "name": "stdout",
     "output_type": "stream",
     "text": [
      "displacements[1]\n",
      "spc_forces[1]\n",
      "grid_point_forces[1]\n",
      "cbar_stress[1]\n",
      "cbar_strain[1]\n",
      "cquad4_composite_stress[1]\n",
      "ctria3_composite_stress[1]\n",
      "cquad4_composite_strain[1]\n",
      "ctria3_composite_strain[1]\n",
      "\n"
     ]
    }
   ],
   "source": [
    "import os\n",
    "import copy\n",
    "import numpy as np\n",
    "np.set_printoptions(precision=2, threshold=20, linewidth=100, suppress=True)\n",
    "\n",
    "import pyNastran\n",
    "from pyNastran.op2.op2 import read_op2\n",
    "from pyNastran.utils.nastran_utils import run_nastran\n",
    "pkg_path = pyNastran.__path__[0]\n",
    "model_path = os.path.join(pkg_path, '..', 'models')\n",
    "\n",
    "bdf_filename = os.path.join(model_path, 'bwb', 'bwb_saero.bdf')\n",
    "op2_filename = os.path.join(model_path, 'bwb', 'bwb_saero.op2')\n",
    "if not os.path.exists(op2_filename):\n",
    "    keywords = ['scr=yes', 'bat=no', 'old=no']\n",
    "    run_nastran(bdf_filename, nastran_cmd='nastran', keywords=keywords, run=True)\n",
    "    import shutil\n",
    "    op2_filename2 = os.path.join('bwb_saero.op2')\n",
    "    shutil.move(op2_filename2, op2_filename)\n",
    "\n",
    "assert os.path.exists(op2_filename), print_bad_path(op2_filename)\n",
    "model = read_op2(op2_filename, build_dataframe=False, debug=False)\n",
    "\n",
    "print(model.get_op2_stats(short=True))"
   ]
  },
  {
   "cell_type": "markdown",
   "metadata": {},
   "source": [
    "### Accessing the Composite Stress"
   ]
  },
  {
   "cell_type": "code",
   "execution_count": 2,
   "metadata": {},
   "outputs": [
    {
     "name": "stdout",
     "output_type": "stream",
     "text": [
      "  type=RealCompositePlateStressArray nelements=9236 ntotal=92360\n",
      "  data: [1, ntotal, 9] where 9=[o11, o22, t12, t1z, t2z, angle, major, minor, max_shear]\n",
      "  element_layer.shape = (92360, 2)\n",
      "  data.shape = (1, 92360, 9)\n",
      "  element type: QUAD4LC-composite\n",
      "  sort1\n",
      "  lsdvmns = [1]\n",
      "\n"
     ]
    }
   ],
   "source": [
    "isubcase = 1\n",
    "stress = model.cquad4_composite_stress[isubcase]\n",
    "print(stress)\n",
    "headers = stress.get_headers()\n",
    "imax = headers.index('major')"
   ]
  },
  {
   "cell_type": "markdown",
   "metadata": {},
   "source": [
    "### Composite Stress/Strain data is tricky to access as there is not a good way to index the data\n",
    "\n",
    "Let's cheat a bit using the element ids and layers to make a pivot table.\n",
    " - **table** is (ntimes, nelements, nlayers, ndata) \n",
    " - **max_principal_stress_table** is (nelements, nlayers)"
   ]
  },
  {
   "cell_type": "code",
   "execution_count": 3,
   "metadata": {},
   "outputs": [
    {
     "name": "stdout",
     "output_type": "stream",
     "text": [
      "max_principal_stress_table:\n",
      "[[ 239.3   163.91   98.41 ...  -35.77  -34.6   -19.86]\n",
      " [  18.61   78.52   25.52 ...  -63.92  -62.48  -12.99]\n",
      " [   2.99  105.48   49.37 ... -137.74 -127.07  -41.14]\n",
      " ...\n",
      " [ 157.    170.3   112.79 ...   44.56   47.13   38.9 ]\n",
      " [ 123.96  143.01   97.41 ...   40.99   44.06   42.47]\n",
      " [  90.04  109.97   79.86 ...   33.18   36.12   24.04]]\n"
     ]
    }
   ],
   "source": [
    "from pyNastran.femutils.utils import pivot_table\n",
    "\n",
    "eids = stress.element_layer[:, 0]\n",
    "layers = stress.element_layer[:, 1]\n",
    "\n",
    "## now pivot the stress\n",
    "table, rows_new = pivot_table(stress.data, eids, layers)\n",
    "\n",
    "# now access the max principal stress for the static result\n",
    "# table is (itime, nelements, nlayers, data)\n",
    "itime = 0\n",
    "max_principal_stress_table = table[itime,:,:,imax]\n",
    "ueids = np.unique(eids)\n",
    "print('max_principal_stress_table:\\n%s' % max_principal_stress_table)"
   ]
  },
  {
   "cell_type": "markdown",
   "metadata": {},
   "source": [
    "## More realistic pivot table\n",
    "All the elements have 10 layers.  Let's remove the last 5 layers.\n",
    "\n",
    "By having empty layers, the pivot table now has nan data in it."
   ]
  },
  {
   "cell_type": "code",
   "execution_count": 4,
   "metadata": {},
   "outputs": [
    {
     "name": "stdout",
     "output_type": "stream",
     "text": [
      "max_principal_stress_table2:\n",
      "[[ 239.3   163.91   98.41 ...  -35.77  -34.6   -19.86]\n",
      " [  18.61   78.52   25.52 ...  -63.92  -62.48  -12.99]\n",
      " [   2.99  105.48   49.37 ... -137.74 -127.07  -41.14]\n",
      " ...\n",
      " [ 157.    170.3   112.79 ...   44.56   47.13   38.9 ]\n",
      " [ 123.96  143.01   97.41 ...   40.99   44.06   42.47]\n",
      " [  90.04  109.97   79.86 ...     nan     nan     nan]]\n"
     ]
    }
   ],
   "source": [
    "# drop out 5 layers\n",
    "eids2 = stress.element_layer[:-5, 0]\n",
    "layers2 = stress.element_layer[:-5, 1]\n",
    "data2 = stress.data[:, :-5, :]\n",
    "\n",
    "# now pivot the stress\n",
    "table, rows_new = pivot_table(data2, eids2, layers2)\n",
    "\n",
    "# access the table data\n",
    "# table is (itime, nelements, nlayers, data)\n",
    "itime = 0\n",
    "max_principal_stress_table2 = table[itime,:,:,imax]\n",
    "print('max_principal_stress_table2:\\n%s' % max_principal_stress_table2)"
   ]
  }
 ],
 "metadata": {
  "kernelspec": {
   "display_name": "Python 3",
   "language": "python",
   "name": "python3"
  },
  "language_info": {
   "codemirror_mode": {
    "name": "ipython",
    "version": 3
   },
   "file_extension": ".py",
   "mimetype": "text/x-python",
   "name": "python",
   "nbconvert_exporter": "python",
   "pygments_lexer": "ipython3",
   "version": "3.7.3"
  }
 },
 "nbformat": 4,
 "nbformat_minor": 2
}
