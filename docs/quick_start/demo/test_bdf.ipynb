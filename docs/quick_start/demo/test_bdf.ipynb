{
 "cells": [
  {
   "cell_type": "markdown",
   "metadata": {},
   "source": [
    "# test_bdf demo\n",
    "\n",
    "In this demo, we'll show off test_bdf"
   ]
  },
  {
   "cell_type": "code",
   "execution_count": 1,
   "metadata": {},
   "outputs": [],
   "source": [
    "from IPython.display import HTML as html_print\n",
    "from pyNastran.bdf.bdf import BDF, read_bdf, CaseControlDeck\n"
   ]
  },
  {
   "cell_type": "code",
   "execution_count": 2,
   "metadata": {},
   "outputs": [
    {
     "data": {
      "text/html": [
       "<text style=color:blue>DEBUG:   write_mesh.py:245            ---starting BDF.write_bdf of junk.bdf---\n",
       "</text>"
      ],
      "text/plain": [
       "<IPython.core.display.HTML object>"
      ]
     },
     "metadata": {},
     "output_type": "display_data"
    },
    {
     "name": "stdout",
     "output_type": "stream",
     "text": [
      "----------------------------------------------------------------------------------------------------\n"
     ]
    }
   ],
   "source": [
    "model = BDF()\n",
    "\n",
    "# add_grid(nid, xyz, cp=0, cd=0, ps='', seid=0)\n",
    "model.add_grid(1, [0., 0., 0.])\n",
    "model.add_grid(2, [1., 0., 0.])\n",
    "model.add_grid(3, [1., 1., 0.])\n",
    "model.add_grid(4, [0., 1., 0.])\n",
    "\n",
    "eid = 10\n",
    "pid = 100\n",
    "mid = 1000\n",
    "# add_cbar(eid, pid, nids, x, g0, offt='GGG', pa=0, pb=0, wa=None, wb=None)\n",
    "model.add_cbar(eid,   pid, [1, 2], [0., 0., 1.], None, offt='GGG')\n",
    "model.add_cbar(eid+1, pid, [2, 3], [0., 0., 1.], None, offt='GGG')\n",
    "model.add_cbar(eid+2, pid, [3, 4], [0., 0., 1.], None, offt='GGG')\n",
    "model.add_cbar(eid+3, pid, [4, 1], [0., 0., 1.], None, offt='GGG')\n",
    "\n",
    "eid_cquad4 = 15\n",
    "pid_pshell = 101\n",
    "# add_pshell(pid, mid1=None, t=None, mid2=None, twelveIt3=1.0,\n",
    "#            mid3=None, tst=0.833333, \n",
    "#            nsm=0.0, z1=None, z2=None, mid4=None)\n",
    "model.add_pshell(pid_pshell, mid1=mid, t=0.1, mid2=mid, mid3=mid)\n",
    "model.add_cquad4(eid_cquad4, pid_pshell, [1, 2, 3, 4])\n",
    "\n",
    "dim = [3., 3., 1., 1.] # TODO: should be [1., 2., 3., 4.]\n",
    "# add_pbarl(pid, mid, Type, dim, group='MSCBML0', nsm=0.0)\n",
    "pbarl = model.add_pbarl(pid, mid, 'BOX', dim, nsm=0.0)\n",
    "pbarl.validate()\n",
    "\n",
    "E = 3.e7\n",
    "G = None\n",
    "nu = 0.3\n",
    "mat = model.add_mat1(mid, E, G, nu)\n",
    "\n",
    "spc_id = 1\n",
    "nids = 1\n",
    "# add_spc1(conid, components, nodes\n",
    "model.add_spc1(spc_id, 123456, nids)\n",
    "\n",
    "\n",
    "dresp_id = 100\n",
    "label = 'resp1'\n",
    "response_type = 'STRESS'\n",
    "property_type = 'PSHELL'\n",
    "pid = 3\n",
    "atta = 9 # von mises upper surface stress\n",
    "region = None\n",
    "attb = None\n",
    "atti = [pid_pshell]\n",
    "# add_dresp1(dresp_id, label, response_type, property_type, region, atta, attb, atti)\n",
    "model.add_dresp1(dresp_id, label, response_type, property_type, region, atta, attb, atti)\n",
    "\n",
    "dresp_id += 1\n",
    "atta = 17 # von mises lower surface stress\n",
    "model.add_dresp1(dresp_id, label, response_type, property_type, region, atta, attb, atti)\n",
    "\n",
    "# add_dconstr(oid, dresp_id, lid=-1e+20, uid=1e+20, lowfq=0.0, highfq=1e+20)\n",
    "dconstr_id = 10000\n",
    "model.add_dconstr(dconstr_id, dresp_id, lid=-35000., uid=35000.)\n",
    "\n",
    "dresp_id += 1\n",
    "dresp = model.add_dresp1(dresp_id, 'WT', 'WEIGHT', None, None, None, None, None)\n",
    "dresp.validate()\n",
    "\n",
    "oid = 1000\n",
    "dvids = 1\n",
    "coeffs = 1.\n",
    "# add_dvprel1(oid, prop_type, pid, pname_fid, dvids, coeffs,\n",
    "#             p_min=None, p_max=1e+20, c0=0.0)\n",
    "model.add_dvprel1(oid, 'PSHELL', pid_pshell, 'T', dvids, coeffs)\n",
    "\n",
    "# add_desvar(desvar_id, label, xinit, xlb=-1e+20, xub=1e+20,\n",
    "#            delx=None, ddval=None)\n",
    "model.add_desvar(1, 'DIM1', 0.1, xlb=1e-5)\n",
    "model.add_desvar(2, 'DIM2', 0.2, xlb=1e-5)\n",
    "model.add_desvar(3, 'DIM3', 0.3, xlb=1e-5)\n",
    "model.add_desvar(4, 'DIM4', 0.4, xlb=1e-5)\n",
    "model.add_desvar(5, 'DV5', 0.1, xlb=1e-5)\n",
    "\n",
    "#model.add_dlink(6)\n",
    "\n",
    "eid = 10 # TODO: remove\n",
    "load_id = 1\n",
    "# add_pload4(sid, eids, pressures, g1=None, g34=None,\n",
    "#            cid=0, nvector=None, surf_or_line='SURF', line_load_dir='NORM')\n",
    "pload4 = model.add_pload4(load_id, [eid_cquad4], [1., None, None, None], \n",
    "                          comment=' load')\n",
    "#print(pload4.get_stats())\n",
    "\n",
    "eid = 10 # TODO: should be 100\n",
    "scale = 'LE' # TODO: should be 100.\n",
    "# add_pload1(sid, eid, load_type, scale, x1, p1, x2=None, p2=None)\n",
    "model.add_pload1(load_id, eid, 'FZ', scale, 0., 1.)  # TODO: change atti to None\n",
    "\n",
    "# add_eigrl(sid, v1=None, v2=None, nd=None, msglvl=0, maxset=None, shfscl=None,\n",
    "#           norm=None, options=None, values=None)\n",
    "eigrl = model.add_eigrl(42, nd=42)\n",
    "\n",
    "model.sol = 200  # start with 103\n",
    "cc = CaseControlDeck([\n",
    "    'DESOBJ = 102',  # DRESP1\n",
    "    'DESSUB = %s' % dconstr_id,  # DCONSTR\n",
    "    'SUBCASE 1',\n",
    "    '  METHOD = 42',  # TODO: remove\n",
    "    '  LOAD = %s' % load_id,  # TODO: remove\n",
    "    '  SPC = %s' % spc_id,\n",
    "    '  TRIM = 42',  # TODO: add\n",
    "    'ANALYSIS = SAERO',\n",
    "])\n",
    "#print(cc)\n",
    "model.case_control_deck = cc\n",
    "model.validate()\n",
    "\n",
    "\n",
    "model.write_bdf('junk.bdf')\n",
    "#!cat junk.bdf\n",
    "print('----------------------------------------------------------------------------------------------------')\n"
   ]
  },
  {
   "cell_type": "code",
   "execution_count": 3,
   "metadata": {},
   "outputs": [
    {
     "data": {
      "text/html": [
       "<text style=color:blue>DEBUG:   write_mesh.py:245            ---starting BDF.write_bdf of junk.bdf---\n",
       "</text>"
      ],
      "text/plain": [
       "<IPython.core.display.HTML object>"
      ]
     },
     "metadata": {},
     "output_type": "display_data"
    },
    {
     "name": "stdout",
     "output_type": "stream",
     "text": [
      "debug = False\n",
      "bdf_model = junk.bdf\n"
     ]
    },
    {
     "data": {
      "text/html": [
       "<text style=color:green>INFO:    test_bdf.py:347              starting fem1\n",
       "</text>"
      ],
      "text/plain": [
       "<IPython.core.display.HTML object>"
      ]
     },
     "metadata": {},
     "output_type": "display_data"
    },
    {
     "data": {
      "text/html": [
       "<text style=color:green>INFO:    test_bdf.py:797              starting fem2\n",
       "</text>"
      ],
      "text/plain": [
       "<IPython.core.display.HTML object>"
      ]
     },
     "metadata": {},
     "output_type": "display_data"
    },
    {
     "data": {
      "text/html": [
       "<text style=color:orange>WARNING: test_bdf.py:819              PARAM,POST,0 is not supported by the OP2 reader\n",
       "</text>"
      ],
      "text/plain": [
       "<IPython.core.display.HTML object>"
      ]
     },
     "metadata": {},
     "output_type": "display_data"
    },
    {
     "data": {
      "text/html": [
       "<text style=color:red>ERROR:   test_bdf.py:1106             An AEROS card is required for STATIC AERO - SOL 144; AEROS=None\n",
       "</text>"
      ],
      "text/plain": [
       "<IPython.core.display.HTML object>"
      ]
     },
     "metadata": {},
     "output_type": "display_data"
    },
    {
     "data": {
      "text/html": [
       "<text style=color:red>ERROR:   test_bdf.py:1110             An CAEROx card is required for STATIC AERO - SOL 144\n",
       "</text>"
      ],
      "text/plain": [
       "<IPython.core.display.HTML object>"
      ]
     },
     "metadata": {},
     "output_type": "display_data"
    },
    {
     "data": {
      "text/html": [
       "<text style=color:red>ERROR:   test_bdf.py:1114             An SPLINEx card is required for STATIC AERO - SOL 144\n",
       "</text>"
      ],
      "text/plain": [
       "<IPython.core.display.HTML object>"
      ]
     },
     "metadata": {},
     "output_type": "display_data"
    },
    {
     "ename": "RuntimeError",
     "evalue": "TRIM = 42\ntrims={}\nsubcase:\nSUBCASE 1\n    ANALYSIS = SAERO\n    DESOBJ = 102\n    DESSUB = 10000\n    LOAD = 1\n    METHOD = 42\n    SPC = 1\n    TRIM = 42\n",
     "output_type": "error",
     "traceback": [
      "\u001b[1;31m---------------------------------------------------------------------------\u001b[0m",
      "\u001b[1;31mRuntimeError\u001b[0m                              Traceback (most recent call last)",
      "\u001b[1;32m<ipython-input-3-746e54da5a3e>\u001b[0m in \u001b[0;36m<module>\u001b[1;34m\u001b[0m\n\u001b[0;32m      1\u001b[0m \u001b[1;32mfrom\u001b[0m \u001b[0mpyNastran\u001b[0m\u001b[1;33m.\u001b[0m\u001b[0mbdf\u001b[0m\u001b[1;33m.\u001b[0m\u001b[0mtest\u001b[0m\u001b[1;33m.\u001b[0m\u001b[0mtest_bdf\u001b[0m \u001b[1;32mimport\u001b[0m \u001b[0mrun_bdf\u001b[0m \u001b[1;32mas\u001b[0m \u001b[0mtest_bdf\u001b[0m\u001b[1;33m\u001b[0m\u001b[1;33m\u001b[0m\u001b[0m\n\u001b[0;32m      2\u001b[0m \u001b[0mmodel\u001b[0m\u001b[1;33m.\u001b[0m\u001b[0mwrite_bdf\u001b[0m\u001b[1;33m(\u001b[0m\u001b[1;34m'junk.bdf'\u001b[0m\u001b[1;33m)\u001b[0m\u001b[1;33m\u001b[0m\u001b[1;33m\u001b[0m\u001b[0m\n\u001b[1;32m----> 3\u001b[1;33m \u001b[0mtest_bdf\u001b[0m\u001b[1;33m(\u001b[0m\u001b[1;34m'.'\u001b[0m\u001b[1;33m,\u001b[0m \u001b[1;34m'junk.bdf'\u001b[0m\u001b[1;33m)\u001b[0m\u001b[1;33m\u001b[0m\u001b[1;33m\u001b[0m\u001b[0m\n\u001b[0m",
      "\u001b[1;32mc:\\nasa\\m4\\formats\\git\\pynastran\\pyNastran\\bdf\\test\\test_bdf.py\u001b[0m in \u001b[0;36mrun_bdf\u001b[1;34m(folder, bdf_filename, debug, xref, check, punch, mesh_form, is_folder, print_stats, encoding, sum_load, size, is_double, hdf5, stop, nastran, post, dynamic_vars, quiet, dumplines, dictsort, run_extract_bodies, save_file_structure, nerrors, dev, crash_cards, safe_xref, pickle_obj, stop_on_failure, log)\u001b[0m\n\u001b[0;32m    317\u001b[0m         \u001b[0mpickle_obj\u001b[0m\u001b[1;33m=\u001b[0m\u001b[0mpickle_obj\u001b[0m\u001b[1;33m,\u001b[0m\u001b[1;33m\u001b[0m\u001b[1;33m\u001b[0m\u001b[0m\n\u001b[0;32m    318\u001b[0m         \u001b[0mstop_on_failure\u001b[0m\u001b[1;33m=\u001b[0m\u001b[0mstop_on_failure\u001b[0m\u001b[1;33m,\u001b[0m\u001b[1;33m\u001b[0m\u001b[1;33m\u001b[0m\u001b[0m\n\u001b[1;32m--> 319\u001b[1;33m         \u001b[0mlog\u001b[0m\u001b[1;33m=\u001b[0m\u001b[0mlog\u001b[0m\u001b[1;33m,\u001b[0m\u001b[1;33m\u001b[0m\u001b[1;33m\u001b[0m\u001b[0m\n\u001b[0m\u001b[0;32m    320\u001b[0m     )\n\u001b[0;32m    321\u001b[0m     \u001b[1;32mreturn\u001b[0m \u001b[0mfem1\u001b[0m\u001b[1;33m,\u001b[0m \u001b[0mfem2\u001b[0m\u001b[1;33m,\u001b[0m \u001b[0mdiff_cards\u001b[0m\u001b[1;33m\u001b[0m\u001b[1;33m\u001b[0m\u001b[0m\n",
      "\u001b[1;32mc:\\nasa\\m4\\formats\\git\\pynastran\\pyNastran\\bdf\\test\\test_bdf.py\u001b[0m in \u001b[0;36mrun_and_compare_fems\u001b[1;34m(bdf_model, out_model, debug, xref, check, punch, mesh_form, print_stats, encoding, sum_load, size, is_double, save_file_structure, stop, nastran, post, hdf5, dynamic_vars, quiet, dumplines, dictsort, nerrors, dev, crash_cards, safe_xref, run_extract_bodies, pickle_obj, stop_on_failure, log)\u001b[0m\n\u001b[0;32m    384\u001b[0m                         \u001b[0mencoding\u001b[0m\u001b[1;33m=\u001b[0m\u001b[0mencoding\u001b[0m\u001b[1;33m,\u001b[0m \u001b[0mdebug\u001b[0m\u001b[1;33m=\u001b[0m\u001b[0mdebug\u001b[0m\u001b[1;33m,\u001b[0m \u001b[0mquiet\u001b[0m\u001b[1;33m=\u001b[0m\u001b[0mquiet\u001b[0m\u001b[1;33m,\u001b[0m\u001b[1;33m\u001b[0m\u001b[1;33m\u001b[0m\u001b[0m\n\u001b[0;32m    385\u001b[0m                         \u001b[0mierror\u001b[0m\u001b[1;33m=\u001b[0m\u001b[0mierror\u001b[0m\u001b[1;33m,\u001b[0m \u001b[0mnerrors\u001b[0m\u001b[1;33m=\u001b[0m\u001b[0mnerrors\u001b[0m\u001b[1;33m,\u001b[0m\u001b[1;33m\u001b[0m\u001b[1;33m\u001b[0m\u001b[0m\n\u001b[1;32m--> 386\u001b[1;33m                         stop_on_failure=stop_on_failure, log=log)\n\u001b[0m\u001b[0;32m    387\u001b[0m \u001b[1;33m\u001b[0m\u001b[0m\n\u001b[0;32m    388\u001b[0m         diff_cards = compare(fem1, fem2, xref=xref, check=check,\n",
      "\u001b[1;32mc:\\nasa\\m4\\formats\\git\\pynastran\\pyNastran\\bdf\\test\\test_bdf.py\u001b[0m in \u001b[0;36mrun_fem2\u001b[1;34m(bdf_model, out_model, xref, punch, sum_load, size, is_double, mesh_form, safe_xref, encoding, debug, quiet, stop_on_failure, ierror, nerrors, log)\u001b[0m\n\u001b[0;32m    834\u001b[0m                 \u001b[0mfem2\u001b[0m\u001b[1;33m,\u001b[0m \u001b[0mp0\u001b[0m\u001b[1;33m,\u001b[0m \u001b[0msol_base\u001b[0m\u001b[1;33m,\u001b[0m \u001b[0msubcase_keys\u001b[0m\u001b[1;33m,\u001b[0m \u001b[0msubcases\u001b[0m\u001b[1;33m,\u001b[0m \u001b[0msol_200_map\u001b[0m\u001b[1;33m,\u001b[0m\u001b[1;33m\u001b[0m\u001b[1;33m\u001b[0m\u001b[0m\n\u001b[0;32m    835\u001b[0m                 \u001b[0mierror\u001b[0m\u001b[1;33m=\u001b[0m\u001b[0mierror\u001b[0m\u001b[1;33m,\u001b[0m \u001b[0mnerrors\u001b[0m\u001b[1;33m=\u001b[0m\u001b[0mnerrors\u001b[0m\u001b[1;33m,\u001b[0m\u001b[1;33m\u001b[0m\u001b[1;33m\u001b[0m\u001b[0m\n\u001b[1;32m--> 836\u001b[1;33m                 stop_on_failure=stop_on_failure)\n\u001b[0m\u001b[0;32m    837\u001b[0m \u001b[1;33m\u001b[0m\u001b[0m\n\u001b[0;32m    838\u001b[0m     \u001b[1;32mif\u001b[0m \u001b[0mmesh_form\u001b[0m \u001b[1;32mis\u001b[0m \u001b[1;32mnot\u001b[0m \u001b[1;32mNone\u001b[0m\u001b[1;33m:\u001b[0m\u001b[1;33m\u001b[0m\u001b[1;33m\u001b[0m\u001b[0m\n",
      "\u001b[1;32mc:\\nasa\\m4\\formats\\git\\pynastran\\pyNastran\\bdf\\test\\test_bdf.py\u001b[0m in \u001b[0;36mvalidate_case_control\u001b[1;34m(fem2, p0, sol_base, subcase_keys, subcases, unused_sol_200_map, stop_on_failure, ierror, nerrors)\u001b[0m\n\u001b[0;32m    872\u001b[0m         ierror = check_case(\n\u001b[0;32m    873\u001b[0m             \u001b[0msol_base\u001b[0m\u001b[1;33m,\u001b[0m \u001b[0msubcase\u001b[0m\u001b[1;33m,\u001b[0m \u001b[0mfem2\u001b[0m\u001b[1;33m,\u001b[0m \u001b[0mp0\u001b[0m\u001b[1;33m,\u001b[0m \u001b[0misubcase\u001b[0m\u001b[1;33m,\u001b[0m \u001b[0msubcases\u001b[0m\u001b[1;33m,\u001b[0m\u001b[1;33m\u001b[0m\u001b[1;33m\u001b[0m\u001b[0m\n\u001b[1;32m--> 874\u001b[1;33m             ierror=ierror, nerrors=nerrors, stop_on_failure=stop_on_failure)\n\u001b[0m\u001b[0;32m    875\u001b[0m     \u001b[1;32mreturn\u001b[0m \u001b[0mierror\u001b[0m\u001b[1;33m\u001b[0m\u001b[1;33m\u001b[0m\u001b[0m\n\u001b[0;32m    876\u001b[0m \u001b[1;33m\u001b[0m\u001b[0m\n",
      "\u001b[1;32mc:\\nasa\\m4\\formats\\git\\pynastran\\pyNastran\\bdf\\test\\test_bdf.py\u001b[0m in \u001b[0;36mcheck_case\u001b[1;34m(sol, subcase, fem2, p0, isubcase, subcases, ierror, nerrors, stop_on_failure)\u001b[0m\n\u001b[0;32m   1079\u001b[0m \u001b[1;33m\u001b[0m\u001b[0m\n\u001b[0;32m   1080\u001b[0m     \u001b[1;32melif\u001b[0m \u001b[0msol\u001b[0m \u001b[1;33m==\u001b[0m \u001b[1;36m200\u001b[0m\u001b[1;33m:\u001b[0m\u001b[1;33m\u001b[0m\u001b[1;33m\u001b[0m\u001b[0m\n\u001b[1;32m-> 1081\u001b[1;33m         \u001b[0m_check_case_sol_200\u001b[0m\u001b[1;33m(\u001b[0m\u001b[0msol\u001b[0m\u001b[1;33m,\u001b[0m \u001b[0msubcase\u001b[0m\u001b[1;33m,\u001b[0m \u001b[0mfem2\u001b[0m\u001b[1;33m,\u001b[0m \u001b[0mp0\u001b[0m\u001b[1;33m,\u001b[0m \u001b[0misubcase\u001b[0m\u001b[1;33m,\u001b[0m \u001b[0msubcases\u001b[0m\u001b[1;33m,\u001b[0m \u001b[0mlog\u001b[0m\u001b[1;33m)\u001b[0m\u001b[1;33m\u001b[0m\u001b[1;33m\u001b[0m\u001b[0m\n\u001b[0m\u001b[0;32m   1082\u001b[0m     \u001b[1;32melif\u001b[0m \u001b[0msol\u001b[0m \u001b[1;32min\u001b[0m \u001b[1;33m[\u001b[0m\u001b[1;36m114\u001b[0m\u001b[1;33m,\u001b[0m \u001b[1;36m115\u001b[0m\u001b[1;33m,\u001b[0m \u001b[1;36m116\u001b[0m\u001b[1;33m,\u001b[0m \u001b[1;36m118\u001b[0m\u001b[1;33m]\u001b[0m\u001b[1;33m:\u001b[0m\u001b[1;33m\u001b[0m\u001b[1;33m\u001b[0m\u001b[0m\n\u001b[0;32m   1083\u001b[0m         \u001b[1;31m# cyclic statics, modes, buckling, frequency\u001b[0m\u001b[1;33m\u001b[0m\u001b[1;33m\u001b[0m\u001b[1;33m\u001b[0m\u001b[0m\n",
      "\u001b[1;32mc:\\nasa\\m4\\formats\\git\\pynastran\\pyNastran\\bdf\\test\\test_bdf.py\u001b[0m in \u001b[0;36m_check_case_sol_200\u001b[1;34m(sol, subcase, fem2, p0, isubcase, subcases, log)\u001b[0m\n\u001b[0;32m   1270\u001b[0m     \u001b[1;32melif\u001b[0m \u001b[0manalysis\u001b[0m \u001b[1;32min\u001b[0m \u001b[1;33m[\u001b[0m\u001b[1;34m'SAERO'\u001b[0m\u001b[1;33m,\u001b[0m \u001b[1;34m'DIVERG'\u001b[0m\u001b[1;33m,\u001b[0m \u001b[1;34m'DIVERGE'\u001b[0m\u001b[1;33m]\u001b[0m\u001b[1;33m:\u001b[0m\u001b[1;33m\u001b[0m\u001b[1;33m\u001b[0m\u001b[0m\n\u001b[0;32m   1271\u001b[0m         \u001b[0msolution\u001b[0m \u001b[1;33m=\u001b[0m \u001b[1;36m144\u001b[0m\u001b[1;33m\u001b[0m\u001b[1;33m\u001b[0m\u001b[0m\n\u001b[1;32m-> 1272\u001b[1;33m         \u001b[0mcheck_case\u001b[0m\u001b[1;33m(\u001b[0m\u001b[0msolution\u001b[0m\u001b[1;33m,\u001b[0m \u001b[0msubcase\u001b[0m\u001b[1;33m,\u001b[0m \u001b[0mfem2\u001b[0m\u001b[1;33m,\u001b[0m \u001b[0mp0\u001b[0m\u001b[1;33m,\u001b[0m \u001b[0misubcase\u001b[0m\u001b[1;33m,\u001b[0m \u001b[0msubcases\u001b[0m\u001b[1;33m)\u001b[0m\u001b[1;33m\u001b[0m\u001b[1;33m\u001b[0m\u001b[0m\n\u001b[0m\u001b[0;32m   1273\u001b[0m     \u001b[1;32melif\u001b[0m \u001b[0manalysis\u001b[0m \u001b[1;33m==\u001b[0m \u001b[1;34m'FLUTTER'\u001b[0m\u001b[1;33m:\u001b[0m\u001b[1;33m\u001b[0m\u001b[1;33m\u001b[0m\u001b[0m\n\u001b[0;32m   1274\u001b[0m         \u001b[0msolution\u001b[0m \u001b[1;33m=\u001b[0m \u001b[1;36m145\u001b[0m\u001b[1;33m\u001b[0m\u001b[1;33m\u001b[0m\u001b[0m\n",
      "\u001b[1;32mc:\\nasa\\m4\\formats\\git\\pynastran\\pyNastran\\bdf\\test\\test_bdf.py\u001b[0m in \u001b[0;36mcheck_case\u001b[1;34m(sol, subcase, fem2, p0, isubcase, subcases, ierror, nerrors, stop_on_failure)\u001b[0m\n\u001b[0;32m   1092\u001b[0m         \u001b[0msubcase\u001b[0m\u001b[1;33m,\u001b[0m \u001b[0mfem2\u001b[0m\u001b[1;33m,\u001b[0m \u001b[0mp0\u001b[0m\u001b[1;33m,\u001b[0m \u001b[0misubcase\u001b[0m\u001b[1;33m,\u001b[0m \u001b[0msol\u001b[0m\u001b[1;33m,\u001b[0m\u001b[1;33m\u001b[0m\u001b[1;33m\u001b[0m\u001b[0m\n\u001b[0;32m   1093\u001b[0m         \u001b[0mierror\u001b[0m\u001b[1;33m=\u001b[0m\u001b[0mierror\u001b[0m\u001b[1;33m,\u001b[0m \u001b[0mnerrors\u001b[0m\u001b[1;33m=\u001b[0m\u001b[0mnerrors\u001b[0m\u001b[1;33m,\u001b[0m\u001b[1;33m\u001b[0m\u001b[1;33m\u001b[0m\u001b[0m\n\u001b[1;32m-> 1094\u001b[1;33m         stop_on_failure=stop_on_failure)\n\u001b[0m\u001b[0;32m   1095\u001b[0m     \u001b[1;32mreturn\u001b[0m \u001b[0mierror\u001b[0m\u001b[1;33m\u001b[0m\u001b[1;33m\u001b[0m\u001b[0m\n\u001b[0;32m   1096\u001b[0m \u001b[1;33m\u001b[0m\u001b[0m\n",
      "\u001b[1;32mc:\\nasa\\m4\\formats\\git\\pynastran\\pyNastran\\bdf\\test\\test_bdf.py\u001b[0m in \u001b[0;36m_check_case_parameters\u001b[1;34m(subcase, fem2, p0, isubcase, sol, ierror, nerrors, stop_on_failure)\u001b[0m\n\u001b[0;32m   1339\u001b[0m                 \u001b[1;34m'trims=%s\\n'\u001b[0m\u001b[1;33m\u001b[0m\u001b[1;33m\u001b[0m\u001b[0m\n\u001b[0;32m   1340\u001b[0m                 'subcase:\\n%s' % (trim_id, str(fem2.trims), str(subcase)))\n\u001b[1;32m-> 1341\u001b[1;33m             \u001b[1;32mraise\u001b[0m \u001b[0mRuntimeError\u001b[0m\u001b[1;33m(\u001b[0m\u001b[0mmsg\u001b[0m\u001b[1;33m)\u001b[0m\u001b[1;33m\u001b[0m\u001b[1;33m\u001b[0m\u001b[0m\n\u001b[0m\u001b[0;32m   1342\u001b[0m         \u001b[0mtrim\u001b[0m \u001b[1;33m=\u001b[0m \u001b[0mfem2\u001b[0m\u001b[1;33m.\u001b[0m\u001b[0mtrims\u001b[0m\u001b[1;33m[\u001b[0m\u001b[0mtrim_id\u001b[0m\u001b[1;33m]\u001b[0m\u001b[1;33m\u001b[0m\u001b[1;33m\u001b[0m\u001b[0m\n\u001b[0;32m   1343\u001b[0m \u001b[1;33m\u001b[0m\u001b[0m\n",
      "\u001b[1;31mRuntimeError\u001b[0m: TRIM = 42\ntrims={}\nsubcase:\nSUBCASE 1\n    ANALYSIS = SAERO\n    DESOBJ = 102\n    DESSUB = 10000\n    LOAD = 1\n    METHOD = 42\n    SPC = 1\n    TRIM = 42\n"
     ]
    }
   ],
   "source": [
    "from pyNastran.bdf.test.test_bdf import run_bdf as test_bdf\n",
    "model.write_bdf('junk.bdf')\n",
    "test_bdf('.', 'junk.bdf')"
   ]
  }
 ],
 "metadata": {
  "kernelspec": {
   "display_name": "Python 3",
   "language": "python",
   "name": "python3"
  },
  "language_info": {
   "codemirror_mode": {
    "name": "ipython",
    "version": 3
   },
   "file_extension": ".py",
   "mimetype": "text/x-python",
   "name": "python",
   "nbconvert_exporter": "python",
   "pygments_lexer": "ipython3",
   "version": "3.7.3"
  }
 },
 "nbformat": 4,
 "nbformat_minor": 2
}
