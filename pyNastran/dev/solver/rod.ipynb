{
 "cells": [
  {
   "cell_type": "code",
   "execution_count": 1,
   "metadata": {},
   "outputs": [],
   "source": [
    "from IPython.display import display, Math, Latex\n",
    "\n",
    "from sympy import Symbol, Matrix, init_printing, latex, simplify, diff, integrate, cos, expand\n",
    "from sympy.printing.latex import print_latex\n",
    "init_printing(use_latex=True, use_unicode=True)"
   ]
  },
  {
   "cell_type": "code",
   "execution_count": 2,
   "metadata": {},
   "outputs": [],
   "source": [
    "x = Symbol('x')\n",
    "L = Symbol('L')\n",
    "\n",
    "u1 = Symbol('u_1')\n",
    "u2 = Symbol('u_2')\n",
    "N1 = 1 - x/L\n",
    "N2 = x/L\n",
    "nu = Symbol('ν')\n",
    "E = Symbol('E')\n",
    "gi = 2 + 2*nu\n",
    "e11 = Symbol('e_11')\n",
    "e22 = 0\n",
    "e33 = 0\n",
    "e12 = Symbol('e_12')\n",
    "e23 = 0\n",
    "e13 = Symbol('e_13')\n",
    "e = Matrix([[e11, e22, e33, e12, e23, e13]]).T\n",
    "\n",
    "o11 = Symbol('σ_{11}')\n",
    "o22 = 0.\n",
    "o33 = 0.\n",
    "o12 = Symbol('σ_12')\n",
    "o23 = 0.\n",
    "o13 = 0\n",
    "o = Matrix([[o11, o22, o33, o12, o23, o13]]).T"
   ]
  },
  {
   "cell_type": "code",
   "execution_count": 3,
   "metadata": {},
   "outputs": [],
   "source": [
    "D = Matrix([\n",
    "    [1, -nu, -nu, 0., 0., 0.],\n",
    "    [-nu, 1, -nu, 0., 0., 0.],\n",
    "    [-nu, -nu, 1, 0., 0., 0.],\n",
    "    [0.,  0., 0., gi, 0., 0.],\n",
    "    [0.,  0., 0., 0., gi, 0.],\n",
    "    [0.,  0., 0., 0., 0., gi],\n",
    "])\n",
    "D /= E"
   ]
  },
  {
   "cell_type": "code",
   "execution_count": 4,
   "metadata": {},
   "outputs": [
    {
     "data": {
      "image/png": "[encoded data removed]",
      "text/latex": [
       "$\\displaystyle \\left[\\begin{matrix}\\frac{1}{E} & - \\frac{ν}{E} & - \\frac{ν}{E} & 0 & 0 & 0\\\\- \\frac{ν}{E} & \\frac{1}{E} & - \\frac{ν}{E} & 0 & 0 & 0\\\\- \\frac{ν}{E} & - \\frac{ν}{E} & \\frac{1}{E} & 0 & 0 & 0\\\\0 & 0 & 0 & \\frac{2 ν + 2}{E} & 0 & 0\\\\0 & 0 & 0 & 0 & \\frac{2 ν + 2}{E} & 0\\\\0 & 0 & 0 & 0 & 0 & \\frac{2 ν + 2}{E}\\end{matrix}\\right]$"
      ],
      "text/plain": [
       "⎡ 1   -ν   -ν                            ⎤\n",
       "⎢ ─   ───  ───     0        0        0   ⎥\n",
       "⎢ E    E    E                            ⎥\n",
       "⎢                                        ⎥\n",
       "⎢-ν    1   -ν                            ⎥\n",
       "⎢───   ─   ───     0        0        0   ⎥\n",
       "⎢ E    E    E                            ⎥\n",
       "⎢                                        ⎥\n",
       "⎢-ν   -ν    1                            ⎥\n",
       "⎢───  ───   ─      0        0        0   ⎥\n",
       "⎢ E    E    E                            ⎥\n",
       "⎢                                        ⎥\n",
       "⎢               2⋅ν + 2                  ⎥\n",
       "⎢ 0    0    0   ───────     0        0   ⎥\n",
       "⎢                  E                     ⎥\n",
       "⎢                                        ⎥\n",
       "⎢                        2⋅ν + 2         ⎥\n",
       "⎢ 0    0    0      0     ───────     0   ⎥\n",
       "⎢                           E            ⎥\n",
       "⎢                                        ⎥\n",
       "⎢                                 2⋅ν + 2⎥\n",
       "⎢ 0    0    0      0        0     ───────⎥\n",
       "⎣                                    E   ⎦"
      ]
     },
     "metadata": {},
     "output_type": "display_data"
    }
   ],
   "source": [
    "#D_latex = print_latex(D)\n",
    "display(D)\n",
    "#display(latex(D))"
   ]
  },
  {
   "cell_type": "code",
   "execution_count": 5,
   "metadata": {},
   "outputs": [
    {
     "data": {
      "image/png": "[encoded data removed]",
      "text/latex": [
       "$\\displaystyle \\left[\\begin{matrix}e_{11}\\\\0\\\\0\\\\e_{12}\\\\0\\\\e_{13}\\end{matrix}\\right]$"
      ],
      "text/plain": [
       "⎡e₁₁⎤\n",
       "⎢   ⎥\n",
       "⎢ 0 ⎥\n",
       "⎢   ⎥\n",
       "⎢ 0 ⎥\n",
       "⎢   ⎥\n",
       "⎢e₁₂⎥\n",
       "⎢   ⎥\n",
       "⎢ 0 ⎥\n",
       "⎢   ⎥\n",
       "⎣e₁₃⎦"
      ]
     },
     "metadata": {},
     "output_type": "display_data"
    },
    {
     "data": {
      "image/png": "[encoded data removed]",
      "text/latex": [
       "$\\displaystyle \\left[\\begin{matrix}1 & - ν & - ν & 0 & 0 & 0\\\\- ν & 1 & - ν & 0 & 0 & 0\\\\- ν & - ν & 1 & 0 & 0 & 0\\\\0 & 0 & 0 & 2 ν + 2 & 0 & 0\\\\0 & 0 & 0 & 0 & 2 ν + 2 & 0\\\\0 & 0 & 0 & 0 & 0 & 2 ν + 2\\end{matrix}\\right]$"
      ],
      "text/plain": [
       "⎡1   -ν  -ν     0        0        0   ⎤\n",
       "⎢                                     ⎥\n",
       "⎢-ν  1   -ν     0        0        0   ⎥\n",
       "⎢                                     ⎥\n",
       "⎢-ν  -ν  1      0        0        0   ⎥\n",
       "⎢                                     ⎥\n",
       "⎢0   0   0   2⋅ν + 2     0        0   ⎥\n",
       "⎢                                     ⎥\n",
       "⎢0   0   0      0     2⋅ν + 2     0   ⎥\n",
       "⎢                                     ⎥\n",
       "⎣0   0   0      0        0     2⋅ν + 2⎦"
      ]
     },
     "metadata": {},
     "output_type": "display_data"
    }
   ],
   "source": [
    "display(e)\n",
    "display(D*E)\n",
    "# display(D.inv())"
   ]
  },
  {
   "cell_type": "code",
   "execution_count": 35,
   "metadata": {},
   "outputs": [
    {
     "ename": "NameError",
     "evalue": "name 'a2' is not defined",
     "output_type": "error",
     "traceback": [
      "\u001b[1;31m---------------------------------------------------------------------------\u001b[0m",
      "\u001b[1;31mNameError\u001b[0m                                 Traceback (most recent call last)",
      "\u001b[1;32m<ipython-input-35-d08b8014beda>\u001b[0m in \u001b[0;36m<module>\u001b[1;34m\u001b[0m\n\u001b[0;32m      5\u001b[0m \u001b[1;31m#print(N1,u1)\u001b[0m\u001b[1;33m\u001b[0m\u001b[1;33m\u001b[0m\u001b[1;33m\u001b[0m\u001b[0m\n\u001b[0;32m      6\u001b[0m \u001b[0mua\u001b[0m \u001b[1;33m=\u001b[0m \u001b[0mN1\u001b[0m\u001b[1;33m*\u001b[0m\u001b[0mu1\u001b[0m \u001b[1;33m+\u001b[0m \u001b[0mN2\u001b[0m\u001b[1;33m*\u001b[0m\u001b[0mu2\u001b[0m\u001b[1;33m\u001b[0m\u001b[1;33m\u001b[0m\u001b[0m\n\u001b[1;32m----> 7\u001b[1;33m \u001b[0muap\u001b[0m \u001b[1;33m=\u001b[0m \u001b[0mN1\u001b[0m\u001b[1;33m*\u001b[0m\u001b[0ma1\u001b[0m \u001b[1;33m+\u001b[0m \u001b[0mN2\u001b[0m\u001b[1;33m*\u001b[0m\u001b[0ma2\u001b[0m\u001b[1;33m\u001b[0m\u001b[1;33m\u001b[0m\u001b[0m\n\u001b[0m\u001b[0;32m      8\u001b[0m \u001b[0mdu_dx\u001b[0m \u001b[1;33m=\u001b[0m \u001b[0mdiff\u001b[0m\u001b[1;33m(\u001b[0m\u001b[0mua\u001b[0m\u001b[1;33m,\u001b[0m \u001b[0mx\u001b[0m\u001b[1;33m)\u001b[0m\u001b[1;33m\u001b[0m\u001b[1;33m\u001b[0m\u001b[0m\n\u001b[0;32m      9\u001b[0m \u001b[0mdisplay\u001b[0m\u001b[1;33m(\u001b[0m\u001b[0mua\u001b[0m\u001b[1;33m)\u001b[0m\u001b[1;33m\u001b[0m\u001b[1;33m\u001b[0m\u001b[0m\n",
      "\u001b[1;31mNameError\u001b[0m: name 'a2' is not defined"
     ]
    }
   ],
   "source": [
    "a1 = Symbol('a1')\n",
    "a1 = Symbol('a2')\n",
    "# display(x,L)\n",
    "# display(N1)\n",
    "#print(N1,u1)\n",
    "ua = N1*u1 + N2*u2\n",
    "uap = N1*a1 + N2*a2\n",
    "du_dx = diff(ua, x)\n",
    "display(ua)\n",
    "display(du_dx)\n",
    "#b = e.substitute('e_11', u)\n",
    "#display(b)\n",
    "x\n",
    "# diff(cos(x), x)"
   ]
  },
  {
   "cell_type": "code",
   "execution_count": 6,
   "metadata": {},
   "outputs": [
    {
     "name": "stdout",
     "output_type": "stream",
     "text": [
      "D (6, 6)\n",
      "e (6, 1)\n",
      "eT (1, 6)\n"
     ]
    },
    {
     "data": {
      "image/png": "[encoded data removed]",
      "text/latex": [
       "$\\displaystyle \\left[\\begin{matrix}e_{11}\\\\0\\\\0\\\\e_{12}\\\\0\\\\e_{13}\\end{matrix}\\right]$"
      ],
      "text/plain": [
       "⎡e₁₁⎤\n",
       "⎢   ⎥\n",
       "⎢ 0 ⎥\n",
       "⎢   ⎥\n",
       "⎢ 0 ⎥\n",
       "⎢   ⎥\n",
       "⎢e₁₂⎥\n",
       "⎢   ⎥\n",
       "⎢ 0 ⎥\n",
       "⎢   ⎥\n",
       "⎣e₁₃⎦"
      ]
     },
     "metadata": {},
     "output_type": "display_data"
    },
    {
     "data": {
      "image/png": "[encoded data removed]",
      "text/latex": [
       "$\\displaystyle \\left[\\begin{matrix}\\frac{σ_{11}}{E}\\\\- \\frac{ν σ_{11}}{E}\\\\- \\frac{ν σ_{11}}{E}\\\\\\frac{σ_{12} \\left(2 ν + 2\\right)}{E}\\\\0\\\\0\\end{matrix}\\right]$"
      ],
      "text/plain": [
       "⎡   σ_{11}    ⎤\n",
       "⎢   ──────    ⎥\n",
       "⎢     E       ⎥\n",
       "⎢             ⎥\n",
       "⎢ -ν⋅σ_{11}   ⎥\n",
       "⎢ ──────────  ⎥\n",
       "⎢     E       ⎥\n",
       "⎢             ⎥\n",
       "⎢ -ν⋅σ_{11}   ⎥\n",
       "⎢ ──────────  ⎥\n",
       "⎢     E       ⎥\n",
       "⎢             ⎥\n",
       "⎢σ₁₂⋅(2⋅ν + 2)⎥\n",
       "⎢─────────────⎥\n",
       "⎢      E      ⎥\n",
       "⎢             ⎥\n",
       "⎢      0      ⎥\n",
       "⎢             ⎥\n",
       "⎣      0      ⎦"
      ]
     },
     "metadata": {},
     "output_type": "display_data"
    }
   ],
   "source": [
    "print('D', D.shape)\n",
    "print('e', e.shape)\n",
    "eT = e.T\n",
    "print('eT', eT.shape)\n",
    "Do = D * o\n",
    "#print(De)\n",
    "Do = Matrix(Do)\n",
    "xl = latex(e) + latex(Do * E)\n",
    "display(e, Do)\n"
   ]
  },
  {
   "cell_type": "code",
   "execution_count": 21,
   "metadata": {},
   "outputs": [
    {
     "data": {
      "image/png": "[encoded data removed]",
      "text/latex": [
       "$\\displaystyle \\left[\\begin{matrix}- \\frac{1}{L} & \\frac{1}{L}\\end{matrix}\\right]$"
      ],
      "text/plain": [
       "⎡-1   1⎤\n",
       "⎢───  ─⎥\n",
       "⎣ L   L⎦"
      ]
     },
     "metadata": {},
     "output_type": "display_data"
    },
    {
     "data": {
      "image/png": "[encoded data removed]",
      "text/latex": [
       "$\\displaystyle \\left[\\begin{matrix}\\frac{A E}{L} & - \\frac{A E}{L}\\\\- \\frac{A E}{L} & \\frac{A E}{L}\\end{matrix}\\right]$"
      ],
      "text/plain": [
       "⎡ A⋅E   -A⋅E ⎤\n",
       "⎢ ───   ─────⎥\n",
       "⎢  L      L  ⎥\n",
       "⎢            ⎥\n",
       "⎢-A⋅E    A⋅E ⎥\n",
       "⎢─────   ─── ⎥\n",
       "⎣  L      L  ⎦"
      ]
     },
     "metadata": {},
     "output_type": "display_data"
    }
   ],
   "source": [
    "P = Symbol('P')\n",
    "A = Symbol('A')\n",
    "\n",
    "#N1 = 1 - x/L\n",
    "#N2 = x/L\n",
    "N1x = diff(N1, x)\n",
    "N2x = diff(N2, x)\n",
    "B = Matrix([N1x, N2x]).T\n",
    "display(dN_dx)\n",
    "\n",
    "\n",
    "dKe = B.T * E * B * A\n",
    "Kei = integrate(dKe, x)\n",
    "Ke = Kei.subs(x, L) - Kei.subs(x, 0)\n",
    "display(Ke)"
   ]
  },
  {
   "cell_type": "markdown",
   "metadata": {},
   "source": [
    "# Apply Strain Energy\n",
    "\n",
    "http://www.sjsu.edu/me/facultystaff/faculty/tai-ran-hsu/CH4_StressAnalsis_ME160.pdf\n",
    "\n",
    "$W =\\frac{1}{2} \\int_V [\\epsilon][\\sigma] dV$\n",
    "\n",
    "$W =\\frac{1}{2} \\int_L A [\\epsilon][\\sigma] dL$\n",
    "\n",
    "  \\begin{align}\n",
    "    \\epsilon &= \\begin{bmatrix}\n",
    "           \\epsilon_{11} \\\\\n",
    "           0             \\\\\n",
    "           0             \\\\\n",
    "           \\epsilon_{12} \\\\\n",
    "           0             \\\\\n",
    "           \\epsilon_{13} \\\\\n",
    "         \\end{bmatrix}\n",
    "  \\end{align}\n",
    "\n",
    "  \\begin{align}\n",
    "    \\sigma &= \\begin{bmatrix}\n",
    "           \\sigma_{11}/E      \\\\\n",
    "           -\\nu \\sigma_{11}/E \\\\\n",
    "           -\\nu \\sigma_{11}/E \\\\\n",
    "           \\sigma_{12}/G \\\\\n",
    "           0             \\\\\n",
    "           0             \\\\\n",
    "         \\end{bmatrix}\n",
    "  \\end{align}\n",
    "\n",
    "\n",
    "  \\begin{align}\n",
    "    dW &= \n",
    "          \\begin{bmatrix}\n",
    "           \\epsilon_{11} \\\\\n",
    "           0             \\\\\n",
    "           0             \\\\\n",
    "           \\epsilon_{12} \\\\\n",
    "           0             \\\\\n",
    "           \\epsilon_{13} \\\\\n",
    "         \\end{bmatrix} \n",
    "         \\begin{bmatrix}\n",
    "           \\sigma_{11}/E      \\\\\n",
    "           -\\nu \\sigma_{11}/E \\\\\n",
    "           -\\nu \\sigma_{11}/E \\\\\n",
    "           \\sigma_{12}/G      \\\\\n",
    "           0                  \\\\\n",
    "           0                  \\\\\n",
    "         \\end{bmatrix} =\n",
    "         \\begin{bmatrix}\n",
    "           \\epsilon_{11}\\sigma_{11}/E      \\\\\n",
    "           0                  \\\\\n",
    "           0                  \\\\\n",
    "           \\epsilon_{12}\\sigma_{12}/G      \\\\\n",
    "           0                  \\\\\n",
    "           0                  \\\\\n",
    "         \\end{bmatrix}\n",
    "\\end{align}\n",
    "\n",
    "\n",
    "$ W = \\frac{1}{2} \\int_v dW $\n",
    "\n",
    "$ W = \\frac{1}{2} \\int_v dW $\n",
    "\n",
    "$\n",
    "         \\begin{bmatrix}\n",
    "           \\epsilon_{11} P_{11}/AE      \\\\\n",
    "           0                  \\\\\n",
    "           0                  \\\\\n",
    "           \\epsilon_{12} P_{12}/AG      \\\\\n",
    "           0                  \\\\\n",
    "           0                  \\\\\n",
    "         \\end{bmatrix}\n",
    "$"
   ]
  },
  {
   "cell_type": "markdown",
   "metadata": {},
   "source": [
    "$\n",
    "         [B] = \\begin{bmatrix}\n",
    "           N1x & 0   & 0 & 0    \\\\\n",
    "           0   & N1x & 0 & 0    \\\\\n",
    "           N1x & 0   & 0 & 0    \\\\\n",
    "           0   & N1x & 0 & 0    \\\\\n",
    "         \\end{bmatrix}\n",
    "$\n",
    "\n",
    "$\n",
    "         [C] = \\begin{bmatrix}\n",
    "           N1x & 0   & 0 & 0    \\\\\n",
    "           0   & N1x & 0 & 0    \\\\\n",
    "           N1x & 0   & 0 & 0    \\\\\n",
    "           0   & N1x & 0 & 0    \\\\\n",
    "         \\end{bmatrix}\n",
    "$\n",
    "$ W = \\int_V [B]^T [C] [B] dV $\n",
    "\n",
    "$ W = \\int_V [B]^T [C] [B] A dx $"
   ]
  },
  {
   "cell_type": "code",
   "execution_count": 33,
   "metadata": {},
   "outputs": [
    {
     "data": {
      "image/png": "[encoded data removed]",
      "text/latex": [
       "$\\displaystyle \\left[\\begin{matrix}- \\frac{1}{L}\\\\\\frac{1}{L}\\end{matrix}\\right]$"
      ],
      "text/plain": [
       "⎡-1 ⎤\n",
       "⎢───⎥\n",
       "⎢ L ⎥\n",
       "⎢   ⎥\n",
       "⎢ 1 ⎥\n",
       "⎢ ─ ⎥\n",
       "⎣ L ⎦"
      ]
     },
     "metadata": {},
     "output_type": "display_data"
    },
    {
     "data": {
      "image/png": "[encoded data removed]",
      "text/latex": [
       "$\\displaystyle \\frac{e_{11} σ_{11}}{E} + \\frac{e_{12} σ_{12} \\left(2 ν + 2\\right)}{E}$"
      ],
      "text/plain": [
       "e₁₁⋅σ_{11}   e₁₂⋅σ₁₂⋅(2⋅ν + 2)\n",
       "────────── + ─────────────────\n",
       "    E                E        "
      ]
     },
     "metadata": {},
     "output_type": "display_data"
    },
    {
     "data": {
      "image/png": "[encoded data removed]",
      "text/latex": [
       "$\\displaystyle \\left[\\begin{matrix}- \\frac{u_{1} \\left(L - x\\right) + u_{2} x}{L^{2}}\\\\\\frac{u_{1} \\left(L - x\\right) + u_{2} x}{L^{2}}\\end{matrix}\\right]$"
      ],
      "text/plain": [
       "⎡-(u₁⋅(L - x) + u₂⋅x) ⎤\n",
       "⎢─────────────────────⎥\n",
       "⎢           2         ⎥\n",
       "⎢          L          ⎥\n",
       "⎢                     ⎥\n",
       "⎢  u₁⋅(L - x) + u₂⋅x  ⎥\n",
       "⎢  ─────────────────  ⎥\n",
       "⎢           2         ⎥\n",
       "⎣          L          ⎦"
      ]
     },
     "metadata": {},
     "output_type": "display_data"
    },
    {
     "data": {
      "image/png": "[encoded data removed]",
      "text/latex": [
       "$\\displaystyle \\frac{2 A E \\left(u_{1} \\left(L - x\\right) + u_{2} x\\right)^{2}}{L^{4}}$"
      ],
      "text/plain": [
       "                         2\n",
       "2⋅A⋅E⋅(u₁⋅(L - x) + u₂⋅x) \n",
       "──────────────────────────\n",
       "             4            \n",
       "            L             "
      ]
     },
     "metadata": {},
     "output_type": "display_data"
    }
   ],
   "source": [
    "\n",
    "#display(B)\n",
    "dW = e.dot(Do)\n",
    "display(dW)\n",
    "\n",
    "Nu = dN_dx * ua\n",
    "Nup = dN_dx * uap\n",
    "display(simplify(Nu))\n",
    "\n",
    "#Nu2 = E * A * Nu.dot(Nu)\n",
    "Nu2 = E * A * Nu.dot(Nup)\n",
    "display(simplify(Nu2))\n",
    "\n",
    "#dWb = (dN_dx * ua)*(dN_dx * ua)\n",
    "\n",
    "if 0:\n",
    "    dW2 = dW.subs(e12, 0.).subs(o11, e11*E).subs(e11, du_dx)\n",
    "    print('dW2:')\n",
    "    display(simplify(dW2))\n",
    "\n",
    "    Nu = dN_dx.dot(ua) #.dot(dN_dx * ua)\n",
    "    dWb = Nu\n",
    "    print('dWb:')\n",
    "    display(simplify(dWb))"
   ]
  },
  {
   "cell_type": "code",
   "execution_count": 34,
   "metadata": {},
   "outputs": [
    {
     "name": "stdout",
     "output_type": "stream",
     "text": [
      "dW3:\n"
     ]
    },
    {
     "data": {
      "image/png": "[encoded data removed]",
      "text/latex": [
       "$\\displaystyle \\frac{2 A E x \\left(3 L^{2} u_{1}^{2} + 3 L u_{1} x \\left(- u_{1} + u_{2}\\right) + x^{2} \\left(u_{1}^{2} - 2 u_{1} u_{2} + u_{2}^{2}\\right)\\right)}{3 L^{4}}$"
      ],
      "text/plain": [
       "        ⎛   2   2                          2 ⎛  2               2⎞⎞\n",
       "2⋅A⋅E⋅x⋅⎝3⋅L ⋅u₁  + 3⋅L⋅u₁⋅x⋅(-u₁ + u₂) + x ⋅⎝u₁  - 2⋅u₁⋅u₂ + u₂ ⎠⎠\n",
       "───────────────────────────────────────────────────────────────────\n",
       "                                   4                               \n",
       "                                3⋅L                                "
      ]
     },
     "metadata": {},
     "output_type": "display_data"
    },
    {
     "name": "stdout",
     "output_type": "stream",
     "text": [
      "dW4:\n"
     ]
    },
    {
     "data": {
      "image/png": "[encoded data removed]",
      "text/latex": [
       "$\\displaystyle \\frac{2 A E u_{1}^{2}}{3 L} + \\frac{2 A E u_{1} u_{2}}{3 L} + \\frac{2 A E u_{2}^{2}}{3 L}$"
      ],
      "text/plain": [
       "        2                         2\n",
       "2⋅A⋅E⋅u₁    2⋅A⋅E⋅u₁⋅u₂   2⋅A⋅E⋅u₂ \n",
       "───────── + ─────────── + ─────────\n",
       "   3⋅L          3⋅L          3⋅L   "
      ]
     },
     "metadata": {},
     "output_type": "display_data"
    },
    {
     "data": {
      "image/png": "[encoded data removed]",
      "text/latex": [
       "$\\displaystyle \\frac{2 A E \\left(u_{1}^{2} + u_{1} u_{2} + u_{2}^{2}\\right)}{3 L}$"
      ],
      "text/plain": [
       "      ⎛  2             2⎞\n",
       "2⋅A⋅E⋅⎝u₁  + u₁⋅u₂ + u₂ ⎠\n",
       "─────────────────────────\n",
       "           3⋅L           "
      ]
     },
     "metadata": {},
     "output_type": "display_data"
    }
   ],
   "source": [
    "dW3 = integrate(Nu2, x)\n",
    "print('dW3:')\n",
    "display(simplify(dW3))\n",
    "dW4 = dW3.subs('x', L) - dW3.subs('x', 0)\n",
    "print('dW4:')\n",
    "display(expand(dW4))\n",
    "display(simplify(dW4))\n"
   ]
  },
  {
   "cell_type": "code",
   "execution_count": 14,
   "metadata": {},
   "outputs": [],
   "source": [
    "# B.dot(D)"
   ]
  },
  {
   "cell_type": "code",
   "execution_count": 16,
   "metadata": {},
   "outputs": [
    {
     "data": {
      "image/png": "[encoded data removed]",
      "text/latex": [
       "$\\displaystyle \\frac{u_{1}^{2}}{L} - \\frac{2 u_{1} u_{2}}{L} + \\frac{u_{2}^{2}}{L}$"
      ],
      "text/plain": [
       "  2               2\n",
       "u₁    2⋅u₁⋅u₂   u₂ \n",
       "─── - ─────── + ───\n",
       " L       L       L "
      ]
     },
     "execution_count": 16,
     "metadata": {},
     "output_type": "execute_result"
    }
   ],
   "source": [
    "expand(dW4)"
   ]
  }
 ],
 "metadata": {
  "kernelspec": {
   "display_name": "Python 3",
   "language": "python",
   "name": "python3"
  },
  "language_info": {
   "codemirror_mode": {
    "name": "ipython",
    "version": 3
   },
   "file_extension": ".py",
   "mimetype": "text/x-python",
   "name": "python",
   "nbconvert_exporter": "python",
   "pygments_lexer": "ipython3",
   "version": "3.7.3"
  }
 },
 "nbformat": 4,
 "nbformat_minor": 4
}
